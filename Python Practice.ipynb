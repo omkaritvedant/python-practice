{
 "cells": [
  {
   "cell_type": "code",
   "execution_count": 3,
   "id": "0010d683",
   "metadata": {},
   "outputs": [
    {
     "name": "stdout",
     "output_type": "stream",
     "text": [
      "Hello World\n"
     ]
    }
   ],
   "source": [
    "print('Hello World')"
   ]
  },
  {
   "cell_type": "code",
   "execution_count": 8,
   "id": "40a840c4",
   "metadata": {},
   "outputs": [
    {
     "name": "stdout",
     "output_type": "stream",
     "text": [
      "Hello Omkar\n"
     ]
    }
   ],
   "source": [
    "print('Hello Omkar')"
   ]
  },
  {
   "cell_type": "code",
   "execution_count": 22,
   "id": "e1b5d9e5",
   "metadata": {},
   "outputs": [
    {
     "name": "stdout",
     "output_type": "stream",
     "text": [
      "Please write your name hereomar\n",
      "Hello omar\n"
     ]
    }
   ],
   "source": [
    "username=input('Please write your name here')\n",
    "print('Hello',username)"
   ]
  },
  {
   "cell_type": "code",
   "execution_count": 24,
   "id": "88d3c962",
   "metadata": {},
   "outputs": [
    {
     "name": "stdout",
     "output_type": "stream",
     "text": [
      "Welcome to ITVedant!\n",
      "Please enter your name here:Omkar\n",
      "Hello Omkar\n",
      "Please enter your phone number here:1234\n",
      "Phone Number Saved Successfully 1234\n"
     ]
    }
   ],
   "source": [
    "#Welcome Bot ItVedant\n",
    "#Welcome Student\n",
    "print('Welcome to ITVedant!')\n",
    "#Ask student its name\n",
    "student_name=input('Please enter your name here:')\n",
    "#Greet student\n",
    "print('Hello',student_name)\n",
    "\n",
    "#Phone number\n",
    "ph_number=input('Please enter your phone number here:')\n",
    "print('Phone Number Saved Successfully',ph_number)\n",
    "#Email\n",
    "#Course\n",
    "#Location"
   ]
  },
  {
   "cell_type": "code",
   "execution_count": 22,
   "id": "17926dc1",
   "metadata": {},
   "outputs": [
    {
     "name": "stdout",
     "output_type": "stream",
     "text": [
      "Welcome to Mumbai! The city of Masala-Chai!\n",
      "Please enter your name here:Omkar\n",
      "Hello Omkar\n",
      "Please enter your budget for a cup of masala chai:-500\n",
      "Go Back Simon!\n"
     ]
    }
   ],
   "source": [
    "#Recommendation Chai Bot\n",
    "#Welcome User to Mumbai\n",
    "print('Welcome to Mumbai! The city of Masala-Chai!')\n",
    "#Ask Their Name \n",
    "username=input('Please enter your name here:')\n",
    "#Greet the user\n",
    "print('Hello',username)\n",
    "#Ask their budget for chai\n",
    "user_budget=int(input('Please enter your budget for a cup of masala chai:'))\n",
    "#500> Taj Hotel\n",
    "if user_budget>=500:\n",
    "    print('Go to Taj Hotel')\n",
    "#300-500 JW Mariott\n",
    "elif user_budget>300 and user_budget<500:\n",
    "    print('Go to JW Mariott')\n",
    "#100-300 Starbucks\n",
    "elif user_budget>100 and user_budget<=300:\n",
    "    print('Go to Starbucks')\n",
    "#20-100 Udipi Restaurant\n",
    "elif user_budget>20 and user_budget<=100:\n",
    "    print('Go to Udipi Restaurant')\n",
    "#5-20 Tapri (Best Option)\n",
    "elif user_budget>5 and user_budget<=20:\n",
    "    print('Go to Mumabi Famous Tapris!')\n",
    "#<5 Go Back Simon!\n",
    "else:\n",
    "    print('Go Back Simon!')"
   ]
  },
  {
   "cell_type": "code",
   "execution_count": 3,
   "id": "a942f27d",
   "metadata": {},
   "outputs": [
    {
     "data": {
      "text/plain": [
       "'500500500'"
      ]
     },
     "execution_count": 3,
     "metadata": {},
     "output_type": "execute_result"
    }
   ],
   "source": [
    "user_budget*3"
   ]
  },
  {
   "cell_type": "code",
   "execution_count": 9,
   "id": "52d9d482",
   "metadata": {},
   "outputs": [
    {
     "data": {
      "text/plain": [
       "505"
      ]
     },
     "execution_count": 9,
     "metadata": {},
     "output_type": "execute_result"
    }
   ],
   "source": [
    "int('505')"
   ]
  },
  {
   "cell_type": "code",
   "execution_count": 10,
   "id": "3e3c5219",
   "metadata": {},
   "outputs": [
    {
     "data": {
      "text/plain": [
       "str"
      ]
     },
     "execution_count": 10,
     "metadata": {},
     "output_type": "execute_result"
    }
   ],
   "source": [
    "type(user_budget)"
   ]
  },
  {
   "cell_type": "code",
   "execution_count": 104,
   "id": "fabfba2a",
   "metadata": {},
   "outputs": [
    {
     "name": "stdout",
     "output_type": "stream",
     "text": [
      "Welcome to Heads & Tails Game!\n",
      "Please enter your choice here:heads\n",
      "You Chose: HEADS\n",
      "Coin Result: Heads\n",
      "You Win!\n"
     ]
    }
   ],
   "source": [
    "#Heads & Tails Game\n",
    "#Welcome User\n",
    "print('Welcome to Heads & Tails Game!')\n",
    "#Ask user its choice\n",
    "user_choice=input('Please enter your choice here:')\n",
    "#Display User Choice\n",
    "print('You Chose:',user_choice.title())\n",
    "#Toss a coin\n",
    "import random\n",
    "\n",
    "if random.choice('ab')=='a':\n",
    "    coin_toss='Heads'\n",
    "else:\n",
    "    coin_toss='Tails'\n",
    "#Display coin Result\n",
    "print('Coin Result:',coin_toss)\n",
    "#if user choice ==  coin result --> You Win!\n",
    "if user_choice.lower()==coin_toss.lower():\n",
    "    print('You Win!')\n",
    "#else You Lose!\n",
    "else:\n",
    "    print('You Lose!')\n"
   ]
  },
  {
   "cell_type": "code",
   "execution_count": 2,
   "id": "3fa2c889",
   "metadata": {},
   "outputs": [
    {
     "name": "stdout",
     "output_type": "stream",
     "text": [
      "Welcome to Dice Game!\n",
      "Please choose a number from 2-12:5\n",
      "You chose: 5\n",
      "Dice Result: 6\n",
      "You Lose!\n"
     ]
    }
   ],
   "source": [
    "#Double Dice Game\n",
    "#Welcome User\n",
    "print('Welcome to Dice Game!')\n",
    "#Ask for user input\n",
    "user_choice=int(input('Please choose a number from 2-12:'))\n",
    "#Display User Choice\n",
    "print('You chose:',user_choice)\n",
    "#Dice Toss\n",
    "import random \n",
    "\n",
    "dice_toss=random.randint(2,12)\n",
    "\n",
    "#if user choice == dice result --> User wins!\n",
    "if user_choice==dice_toss:\n",
    "    if dice_toss==12:\n",
    "        dice_toss=random.randint(2,11)\n",
    "    else:\n",
    "        dice_toss=dice_toss+1\n",
    "    print('Dice Result:',dice_toss)\n",
    "    print('You Lose!')\n",
    "#else user loses!\n",
    "else:\n",
    "    #Display Dice Result\n",
    "    print('Dice Result:',dice_toss)\n",
    "    print('You Lose!')"
   ]
  },
  {
   "cell_type": "code",
   "execution_count": 151,
   "id": "9bad98b3",
   "metadata": {},
   "outputs": [
    {
     "data": {
      "text/plain": [
       "True"
      ]
     },
     "execution_count": 151,
     "metadata": {},
     "output_type": "execute_result"
    }
   ],
   "source": [
    "int('5')==5"
   ]
  },
  {
   "cell_type": "code",
   "execution_count": 6,
   "id": "bd068a04",
   "metadata": {},
   "outputs": [
    {
     "name": "stdout",
     "output_type": "stream",
     "text": [
      "Welcome to Password Generator!\n",
      "Please enter number of charactes you want in your password:12\n",
      "Your Password is: 8gW%&ZzLySin\n"
     ]
    }
   ],
   "source": [
    "#Password Generator\n",
    "#Welcome User\n",
    "print('Welcome to Password Generator!')\n",
    "#Take num of char as input\n",
    "num=int(input('Please enter number of charactes you want in your password:'))\n",
    "\n",
    "if num>8:\n",
    "    #Display Password\n",
    "    password=''\n",
    "\n",
    "    import random \n",
    "    for i in range(num):\n",
    "        #print(i)\n",
    "        password=password+random.choice('abcdefghijklmnopqrstuvwxyzABCDEFGHIJKLMNOPQRSTUV-WXYZ1234567890!@#$%^&*()')\n",
    "    print('Your Password is:',password)\n",
    "else:\n",
    "    print('Please enter more number of characters for stronger password!')\n"
   ]
  },
  {
   "cell_type": "code",
   "execution_count": 67,
   "id": "635b91dd",
   "metadata": {},
   "outputs": [
    {
     "data": {
      "text/plain": [
       "50"
      ]
     },
     "execution_count": 67,
     "metadata": {},
     "output_type": "execute_result"
    }
   ],
   "source": [
    "len('tDZkyeSmM5jFbjE9CKUiQp#Mujb^AzekJj0UOYzX9J)$zytSvA')"
   ]
  },
  {
   "cell_type": "code",
   "execution_count": null,
   "id": "f1c6f8ed",
   "metadata": {},
   "outputs": [],
   "source": []
  }
 ],
 "metadata": {
  "kernelspec": {
   "display_name": "Python 3 (ipykernel)",
   "language": "python",
   "name": "python3"
  },
  "language_info": {
   "codemirror_mode": {
    "name": "ipython",
    "version": 3
   },
   "file_extension": ".py",
   "mimetype": "text/x-python",
   "name": "python",
   "nbconvert_exporter": "python",
   "pygments_lexer": "ipython3",
   "version": "3.9.7"
  }
 },
 "nbformat": 4,
 "nbformat_minor": 5
}
